{
  "nbformat": 4,
  "nbformat_minor": 0,
  "metadata": {
    "colab": {
      "name": "Untitled0.ipynb",
      "provenance": [],
      "authorship_tag": "ABX9TyMR36zNIsGAzWnNxLSiLrcy",
      "include_colab_link": true
    },
    "kernelspec": {
      "name": "python3",
      "display_name": "Python 3"
    },
    "language_info": {
      "name": "python"
    }
  },
  "cells": [
    {
      "cell_type": "markdown",
      "metadata": {
        "id": "view-in-github",
        "colab_type": "text"
      },
      "source": [
        "<a href=\"https://colab.research.google.com/github/lucielharuhi/OOP-58001/blob/main/Fundamentals%20of%20Python.ipynb\" target=\"_parent\"><img src=\"https://colab.research.google.com/assets/colab-badge.svg\" alt=\"Open In Colab\"/></a>"
      ]
    },
    {
      "cell_type": "markdown",
      "source": [
        "Fundamentals of Python"
      ],
      "metadata": {
        "id": "CBbT7Pgti4NH"
      }
    },
    {
      "cell_type": "markdown",
      "source": [
        "Python Variables"
      ],
      "metadata": {
        "id": "4qeeL8dDi8pT"
      }
    },
    {
      "cell_type": "code",
      "source": [
        "x = float(1) \n",
        "a, b = 0, -1\n",
        "a, b, c = \"Sally\", \"John\", \"Anna\"\n",
        "\n",
        "print('This a sample')\n",
        "print(a)\n",
        "print(c)"
      ],
      "metadata": {
        "colab": {
          "base_uri": "https://localhost:8080/"
        },
        "id": "rMuXw6-Di_rs",
        "outputId": "bf8a32d1-3d0f-4c9f-d3f1-44394848da2e"
      },
      "execution_count": 1,
      "outputs": [
        {
          "output_type": "stream",
          "name": "stdout",
          "text": [
            "This a sample\n",
            "Sally\n",
            "Anna\n"
          ]
        }
      ]
    },
    {
      "cell_type": "markdown",
      "source": [
        "Casting"
      ],
      "metadata": {
        "id": "3cQBzBOojHMX"
      }
    },
    {
      "cell_type": "code",
      "source": [
        "print(x)"
      ],
      "metadata": {
        "colab": {
          "base_uri": "https://localhost:8080/"
        },
        "id": "1wxIh6N4jSgg",
        "outputId": "43c43148-58bc-4991-a443-583528f878cd"
      },
      "execution_count": 2,
      "outputs": [
        {
          "output_type": "stream",
          "name": "stdout",
          "text": [
            "1.0\n"
          ]
        }
      ]
    },
    {
      "cell_type": "markdown",
      "source": [
        "Type() Function\n"
      ],
      "metadata": {
        "id": "nOstVRV1jV0I"
      }
    },
    {
      "cell_type": "code",
      "source": [
        "y = \"Johnny\"\n",
        "\n",
        "print(type(y))\n",
        "print(type(x))"
      ],
      "metadata": {
        "colab": {
          "base_uri": "https://localhost:8080/"
        },
        "id": "BIPjAGHkjXgv",
        "outputId": "f8648b0f-a413-4537-ca7b-e99eee2c5224"
      },
      "execution_count": 3,
      "outputs": [
        {
          "output_type": "stream",
          "name": "stdout",
          "text": [
            "<class 'str'>\n",
            "<class 'float'>\n"
          ]
        }
      ]
    },
    {
      "cell_type": "markdown",
      "source": [
        "Double quotes and Single quotes"
      ],
      "metadata": {
        "id": "hDyJjc_ljZ6B"
      }
    },
    {
      "cell_type": "code",
      "source": [
        "h= \"Maria\"\n",
        "v= 1\n",
        "V= 2\n",
        "\n",
        "print(h)\n",
        "print(v)\n",
        "print(v+1)"
      ],
      "metadata": {
        "colab": {
          "base_uri": "https://localhost:8080/"
        },
        "id": "aL24f59sjcEK",
        "outputId": "5c936b99-855b-4eb3-ed3a-f7efe75ec880"
      },
      "execution_count": 4,
      "outputs": [
        {
          "output_type": "stream",
          "name": "stdout",
          "text": [
            "Maria\n",
            "1\n",
            "2\n"
          ]
        }
      ]
    },
    {
      "cell_type": "markdown",
      "source": [
        "Multiple Variables"
      ],
      "metadata": {
        "id": "ZeJEnRJ6jeDq"
      }
    },
    {
      "cell_type": "code",
      "source": [
        "x,y,z=\"one\", \"two\", \"Three\"\n",
        "print(x)\n",
        "print(y)\n",
        "print(z)\n",
        "print(x,y,z)"
      ],
      "metadata": {
        "colab": {
          "base_uri": "https://localhost:8080/"
        },
        "id": "lWAjeLXnjg3s",
        "outputId": "99107e00-0ed3-4814-bfd3-48924fe9727e"
      },
      "execution_count": 5,
      "outputs": [
        {
          "output_type": "stream",
          "name": "stdout",
          "text": [
            "one\n",
            "two\n",
            "Three\n",
            "one two Three\n"
          ]
        }
      ]
    },
    {
      "cell_type": "markdown",
      "source": [
        "One Value to Multiple Variables"
      ],
      "metadata": {
        "id": "X5TEyukIjkVZ"
      }
    },
    {
      "cell_type": "code",
      "source": [
        "x = y = z =\"Stella\"\n",
        "print(x,y,z)"
      ],
      "metadata": {
        "colab": {
          "base_uri": "https://localhost:8080/"
        },
        "id": "XcEmPfa2jnVp",
        "outputId": "6cd86c32-ac8b-4dd4-a63e-7f0e70149544"
      },
      "execution_count": 6,
      "outputs": [
        {
          "output_type": "stream",
          "name": "stdout",
          "text": [
            "Stella Stella Stella\n"
          ]
        }
      ]
    },
    {
      "cell_type": "markdown",
      "source": [
        "Output Variables"
      ],
      "metadata": {
        "id": "trvVPKRpjqvH"
      }
    },
    {
      "cell_type": "code",
      "source": [
        "x= \"enjoying\"\n",
        "\n",
        "print(\"Python is \" + x)\n",
        "\n",
        "x = \"Hi\"\n",
        "y = \"Shawties\"\n",
        "\n",
        "print(x+\"\"+\" \"+y)"
      ],
      "metadata": {
        "colab": {
          "base_uri": "https://localhost:8080/"
        },
        "id": "SKj1TDwljrUw",
        "outputId": "1347b621-cfcc-4f59-8d7e-162673623d9e"
      },
      "execution_count": 7,
      "outputs": [
        {
          "output_type": "stream",
          "name": "stdout",
          "text": [
            "Python is enjoying\n",
            "Hi Shawties\n"
          ]
        }
      ]
    },
    {
      "cell_type": "markdown",
      "source": [
        "Arithmetic Operations"
      ],
      "metadata": {
        "id": "Vg3tMZBOjtNc"
      }
    },
    {
      "cell_type": "code",
      "source": [
        "f = 1\n",
        "g = 2\n",
        "i = 6\n",
        "\n",
        "print(f+g)\n",
        "print(f-g)\n",
        "print(f*i)\n",
        "print(int(i/g))\n",
        "print(3/g)\n",
        "print(3%g)\n",
        "print(3//g)\n",
        "print(3**6)"
      ],
      "metadata": {
        "colab": {
          "base_uri": "https://localhost:8080/"
        },
        "id": "Aix8hA9_ju9Y",
        "outputId": "707209d5-28ca-4ae8-d3f7-7b8e6de425f0"
      },
      "execution_count": 8,
      "outputs": [
        {
          "output_type": "stream",
          "name": "stdout",
          "text": [
            "3\n",
            "-1\n",
            "6\n",
            "3\n",
            "1.5\n",
            "1\n",
            "1\n",
            "729\n"
          ]
        }
      ]
    },
    {
      "cell_type": "markdown",
      "source": [
        "Assignment Operators"
      ],
      "metadata": {
        "id": "3OF0kbN8jxQ4"
      }
    },
    {
      "cell_type": "code",
      "source": [
        "k = 2\n",
        "l=3\n",
        "k+=3 #same as k=k+3\n",
        "\n",
        "print(k)\n",
        "\n",
        "print(l>>1)"
      ],
      "metadata": {
        "colab": {
          "base_uri": "https://localhost:8080/"
        },
        "id": "MOKoWMHojzgA",
        "outputId": "de3567a4-ce8a-462f-91df-0bca7c99f2b1"
      },
      "execution_count": 9,
      "outputs": [
        {
          "output_type": "stream",
          "name": "stdout",
          "text": [
            "5\n",
            "1\n"
          ]
        }
      ]
    },
    {
      "cell_type": "markdown",
      "source": [
        "Boolean Operators"
      ],
      "metadata": {
        "id": "nMgWKm19j3Au"
      }
    },
    {
      "cell_type": "code",
      "source": [
        "k=2\n",
        "l=3\n",
        "print(k>>2)#shift right twice \n",
        "print(k<<2)#shift left twice"
      ],
      "metadata": {
        "colab": {
          "base_uri": "https://localhost:8080/"
        },
        "id": "aacwP9o1j3Z0",
        "outputId": "0194f910-9b5d-4e5c-aebe-7c81566fc08f"
      },
      "execution_count": 10,
      "outputs": [
        {
          "output_type": "stream",
          "name": "stdout",
          "text": [
            "0\n",
            "8\n"
          ]
        }
      ]
    },
    {
      "cell_type": "markdown",
      "source": [
        "Relational Operators"
      ],
      "metadata": {
        "id": "J9SllfKYj8O-"
      }
    },
    {
      "cell_type": "code",
      "source": [
        "print(v>k) #v=1, k=2\n",
        "\n",
        "print(v==k)"
      ],
      "metadata": {
        "colab": {
          "base_uri": "https://localhost:8080/"
        },
        "id": "3Gps__Jcj_JV",
        "outputId": "26263e89-d99f-430f-bb5c-fd8da6b01aa0"
      },
      "execution_count": 11,
      "outputs": [
        {
          "output_type": "stream",
          "name": "stdout",
          "text": [
            "False\n",
            "False\n"
          ]
        }
      ]
    },
    {
      "cell_type": "markdown",
      "source": [
        "Logical Operators"
      ],
      "metadata": {
        "id": "rzjK8hWikCis"
      }
    },
    {
      "cell_type": "code",
      "source": [
        "print(v<k and k==k)\n",
        "print(v<k or k==v)\n",
        "print(not (v<k or k==v))"
      ],
      "metadata": {
        "colab": {
          "base_uri": "https://localhost:8080/"
        },
        "id": "AfS_Ee0WkEWI",
        "outputId": "bbe17205-a815-4874-8e90-c1641ed98538"
      },
      "execution_count": 12,
      "outputs": [
        {
          "output_type": "stream",
          "name": "stdout",
          "text": [
            "True\n",
            "True\n",
            "False\n"
          ]
        }
      ]
    },
    {
      "cell_type": "markdown",
      "source": [
        "Identity Operators"
      ],
      "metadata": {
        "id": "ZKTltH57kIW1"
      }
    },
    {
      "cell_type": "code",
      "source": [
        "print(v is k)\n",
        "print(v is not k)"
      ],
      "metadata": {
        "colab": {
          "base_uri": "https://localhost:8080/"
        },
        "id": "QFFWreX6kMJn",
        "outputId": "fb9dfc59-3ae7-4c44-b463-ced158c72b57"
      },
      "execution_count": 13,
      "outputs": [
        {
          "output_type": "stream",
          "name": "stdout",
          "text": [
            "False\n",
            "True\n"
          ]
        }
      ]
    },
    {
      "cell_type": "markdown",
      "source": [
        ""
      ],
      "metadata": {
        "id": "IN3Xlp3OkO5M"
      }
    }
  ]
}