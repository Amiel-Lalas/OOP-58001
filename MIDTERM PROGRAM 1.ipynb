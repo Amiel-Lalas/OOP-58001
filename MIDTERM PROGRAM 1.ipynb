{
  "nbformat": 4,
  "nbformat_minor": 0,
  "metadata": {
    "colab": {
      "name": "Untitled3.ipynb",
      "provenance": [],
      "authorship_tag": "ABX9TyP9PCB0AbXj5A4Ni3plsnG3",
      "include_colab_link": true
    },
    "kernelspec": {
      "name": "python3",
      "display_name": "Python 3"
    },
    "language_info": {
      "name": "python"
    }
  },
  "cells": [
    {
      "cell_type": "markdown",
      "metadata": {
        "id": "view-in-github",
        "colab_type": "text"
      },
      "source": [
        "<a href=\"https://colab.research.google.com/github/Amiel-Lalas/OOP-58001/blob/main/MIDTERM%20PROGRAM%201.ipynb\" target=\"_parent\"><img src=\"https://colab.research.google.com/assets/colab-badge.svg\" alt=\"Open In Colab\"/></a>"
      ]
    },
    {
      "cell_type": "code",
      "execution_count": 22,
      "metadata": {
        "colab": {
          "base_uri": "https://localhost:8080/"
        },
        "id": "bzZzQOQbXgVE",
        "outputId": "aa1dd01b-0f7c-49d1-eefd-0cda24122b2b"
      },
      "outputs": [
        {
          "output_type": "stream",
          "name": "stdout",
          "text": [
            "Enter the temperature in Celsius: 10\n",
            "Enter the temperature in Fahrenheit: 10\n",
            "Enter the temperature in Kelvin: 10\n",
            "Celsius to Kelvin\n",
            "283.15 Kelvin\n",
            "Celsius to Fahrenheit\n",
            "50.0 Fahrenheit\n",
            "Fahrenhiet to Celsius\n",
            "-12.222222222222221 Celsius\n",
            "Kelvin to Celsius\n",
            "-263.15 Celsius\n"
          ]
        }
      ],
      "source": [
        "def main():\n",
        "\n",
        "  \n",
        "\n",
        " class TemperatureConversion:\n",
        "\n",
        "  def __init__(self, temp=1):\n",
        "\n",
        "   self._temp = temp\n",
        "\n",
        " class CelsiusToFahrenheit(TemperatureConversion):\n",
        "\n",
        "  def conversion(self):\n",
        "\n",
        "   return (self._temp * 9) / 5 + 32\n",
        "\n",
        " class CelsiusToKelvin(TemperatureConversion):\n",
        "\n",
        "  def conversion(self):\n",
        "\n",
        "   return self._temp + 273.15\n",
        "\n",
        " class KelvinToCelsius(TemperatureConversion):\n",
        "\n",
        "  def conversion(self):\n",
        "\n",
        "    return self._temp - 273.15\n",
        "\n",
        " class FahrenheitToCelsius(TemperatureConversion):\n",
        "\n",
        "  def conversion(self):\n",
        "    \n",
        "    return (self._temp - 32) * 5/9\n",
        "\n",
        " tempInCelsius = float(input(\"Enter the temperature in Celsius: \"))\n",
        " tempInFahrenheit = float(input(\"Enter the temperature in Fahrenheit: \"))\n",
        " tempInKelvin = float(input(\"Enter the temperature in Kelvin: \"))\n",
        "\n",
        " convert = CelsiusToKelvin(tempInCelsius)\n",
        "\n",
        " print(\"Celsius to Kelvin\")\n",
        " print(str(convert.conversion()) + \" Kelvin\")\n",
        "\n",
        " convert = CelsiusToFahrenheit(tempInCelsius)\n",
        " print(\"Celsius to Fahrenheit\")\n",
        " print(str(convert.conversion()) + \" Fahrenheit\")\n",
        "\n",
        " convert = FahrenheitToCelsius(tempInFahrenheit)\n",
        " print(\"Fahrenhiet to Celsius\")\n",
        " print(str(convert.conversion()) + \" Celsius\")\n",
        "\n",
        " convert = KelvinToCelsius(tempInCelsius)\n",
        " print(\"Kelvin to Celsius\")\n",
        " print(str(convert.conversion()) + \" Celsius\")\n",
        "\n",
        " \n",
        "\n",
        " \n",
        "\n",
        "\n",
        "\n",
        "main()"
      ]
    }
  ]
}