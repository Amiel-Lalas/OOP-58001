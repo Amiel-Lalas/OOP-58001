{
  "nbformat": 4,
  "nbformat_minor": 0,
  "metadata": {
    "colab": {
      "name": "Lab 3.ipynb",
      "provenance": [],
      "authorship_tag": "ABX9TyMHbgfGDL8LPqb9GkuwvDBX",
      "include_colab_link": true
    },
    "kernelspec": {
      "name": "python3",
      "display_name": "Python 3"
    },
    "language_info": {
      "name": "python"
    }
  },
  "cells": [
    {
      "cell_type": "markdown",
      "metadata": {
        "id": "view-in-github",
        "colab_type": "text"
      },
      "source": [
        "<a href=\"https://colab.research.google.com/github/Amiel-Lalas/OOP-58001/blob/main/Lab_3.ipynb\" target=\"_parent\"><img src=\"https://colab.research.google.com/assets/colab-badge.svg\" alt=\"Open In Colab\"/></a>"
      ]
    },
    {
      "cell_type": "markdown",
      "source": [
        "## Creating Class"
      ],
      "metadata": {
        "id": "MqKQE7OAVNPQ"
      }
    },
    {
      "cell_type": "code",
      "source": [
        "class MyClass:\n",
        "  pass"
      ],
      "metadata": {
        "id": "YJXFkIqaVPuY"
      },
      "execution_count": 1,
      "outputs": []
    },
    {
      "cell_type": "code",
      "source": [
        "class MyClass:\n",
        "  x = 20"
      ],
      "metadata": {
        "id": "hfzJ7wd5VRgs"
      },
      "execution_count": 2,
      "outputs": []
    },
    {
      "cell_type": "markdown",
      "source": [
        "## Demonstration"
      ],
      "metadata": {
        "id": "9oDP9UrAVTCc"
      }
    },
    {
      "cell_type": "code",
      "source": [
        "class Car:\n",
        "  def __init__(self, name, color):\n",
        "      self.name = name\n",
        "      self.color = color\n",
        "\n",
        "  def description (self):\n",
        "    return \"the \" + (self.name) + \" car is \" + (self.color)\n",
        "\n",
        "  def display (self):\n",
        "    print (\"We can say that\", self.description())\n",
        "\n",
        "obj1 = Car (\"Honda\", \"blue\")\n",
        "obj1.display()"
      ],
      "metadata": {
        "colab": {
          "base_uri": "https://localhost:8080/"
        },
        "id": "Z3bmAGGSVWid",
        "outputId": "3435a514-d51e-41b0-c148-f688b4b33659"
      },
      "execution_count": 3,
      "outputs": [
        {
          "output_type": "stream",
          "name": "stdout",
          "text": [
            "We can say that the Honda car is blue\n"
          ]
        }
      ]
    },
    {
      "cell_type": "code",
      "source": [
        "obj1.name = \"Mitsubishi\"\n",
        "print (obj1.name)\n"
      ],
      "metadata": {
        "colab": {
          "base_uri": "https://localhost:8080/"
        },
        "id": "_iyQHxdAVYbG",
        "outputId": "bd3f19eb-f7b7-4bfd-c89a-ab3a15e6eebc"
      },
      "execution_count": 4,
      "outputs": [
        {
          "output_type": "stream",
          "name": "stdout",
          "text": [
            "Mitsubishi\n"
          ]
        }
      ]
    },
    {
      "cell_type": "code",
      "source": [
        "del obj1.color"
      ],
      "metadata": {
        "id": "YT8C42JOVaih"
      },
      "execution_count": 5,
      "outputs": []
    },
    {
      "cell_type": "markdown",
      "source": [
        "### Application 1\n"
      ],
      "metadata": {
        "id": "NEyy2q2QVb8f"
      }
    },
    {
      "cell_type": "code",
      "source": [
        "class Rectangle:\n",
        "  def __init__(self, length, width):\n",
        "      self.length = length\n",
        "      self.width = width\n",
        "  \n",
        "  def Area (self):\n",
        "    return self.length * self.width\n",
        "\n",
        "  def Perimeter (self):\n",
        "    return 2 * (self.length + self.width)\n",
        "\n",
        "  def display (self):\n",
        "    print (\"The area of the rectangle is\", self.Area())\n",
        "    print (\"The perimeter of the rectangle is\", self.Perimeter())\n",
        "  \n",
        "pol = Rectangle (7 , 4.5)\n",
        "pol.display()"
      ],
      "metadata": {
        "colab": {
          "base_uri": "https://localhost:8080/"
        },
        "id": "NeGWlKhNVhh1",
        "outputId": "06070a3e-0efd-4203-a19f-421a6d382681"
      },
      "execution_count": 6,
      "outputs": [
        {
          "output_type": "stream",
          "name": "stdout",
          "text": [
            "The area of the rectangle is 31.5\n",
            "The perimeter of the rectangle is 23.0\n"
          ]
        }
      ]
    },
    {
      "cell_type": "markdown",
      "source": [
        "### Application 2"
      ],
      "metadata": {
        "id": "YBADOBPKVoGw"
      }
    },
    {
      "cell_type": "code",
      "source": [
        "class OOP_58001:\n",
        "  def __init__(self, lname, fname, number):\n",
        "      self.lname = lname\n",
        "      self.fname = fname\n",
        "      self.number = number\n",
        "\n",
        "  def studname (self):\n",
        "    return self.fname + self.lname \n",
        "\n",
        "  def studnum (self):\n",
        "    return self.number\n",
        "\n",
        "  def display (self):\n",
        "    print (\"My name is\", self.studname())\n",
        "    print (\"My student number is\", self.studnum())\n",
        "\n",
        "student = OOP_58001 (\"Lalas\", \"Amiel Simon Ray \", \"202114210\")\n",
        "student.display()"
      ],
      "metadata": {
        "colab": {
          "base_uri": "https://localhost:8080/"
        },
        "id": "2W6B-udFVqZL",
        "outputId": "ed802607-dffe-42d8-c5b8-985e99ec830f"
      },
      "execution_count": 7,
      "outputs": [
        {
          "output_type": "stream",
          "name": "stdout",
          "text": [
            "My name is Amiel Simon Ray Lalas\n",
            "My student number is 202114210\n"
          ]
        }
      ]
    }
  ]
}