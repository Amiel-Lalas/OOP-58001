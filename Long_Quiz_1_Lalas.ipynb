{
  "nbformat": 4,
  "nbformat_minor": 0,
  "metadata": {
    "colab": {
      "name": "Long Quiz 1 Lalas.ipynb",
      "provenance": [],
      "authorship_tag": "ABX9TyOaCzpzPNTEKZJbCBBrq6QM",
      "include_colab_link": true
    },
    "kernelspec": {
      "name": "python3",
      "display_name": "Python 3"
    },
    "language_info": {
      "name": "python"
    }
  },
  "cells": [
    {
      "cell_type": "markdown",
      "metadata": {
        "id": "view-in-github",
        "colab_type": "text"
      },
      "source": [
        "<a href=\"https://colab.research.google.com/github/Amiel-Lalas/OOP-58001/blob/main/Long_Quiz_1_Lalas.ipynb\" target=\"_parent\"><img src=\"https://colab.research.google.com/assets/colab-badge.svg\" alt=\"Open In Colab\"/></a>"
      ]
    },
    {
      "cell_type": "markdown",
      "source": [
        "### LONG QUIZ"
      ],
      "metadata": {
        "id": "4wIlb7a0Mt0K"
      }
    },
    {
      "cell_type": "markdown",
      "source": [
        "Lalas, Amiel Simon Ray"
      ],
      "metadata": {
        "id": "ksIflwzMRC81"
      }
    },
    {
      "cell_type": "code",
      "source": [
        "class Circle():\n",
        "  def __init__ (self, rad):\n",
        "    self.rad = int (rad)\n",
        "  def display (self):\n",
        "    print (\"The Perimeter of circle is\", self.peri())\n",
        "    print (\"The Area of circle is\", self.area())\n",
        "    \n",
        "  def peri (self):\n",
        "    return 2 * self.rad * pi\n",
        "  \n",
        "  def area (self):\n",
        "    return pi * (self.rad ** 2)\n",
        "\n",
        "\n",
        "\n",
        "pi = 3.14\n",
        "val = Circle (input())\n",
        "val.display()"
      ],
      "metadata": {
        "colab": {
          "base_uri": "https://localhost:8080/"
        },
        "id": "BLISvOUFNE1o",
        "outputId": "c15064c9-ae53-4c95-d72b-929f5ee51306"
      },
      "execution_count": 16,
      "outputs": [
        {
          "output_type": "stream",
          "name": "stdout",
          "text": [
            "133\n",
            "The Perimeter of circle is 835.24\n",
            "The Area of circle is 55543.46\n"
          ]
        }
      ]
    }
  ]
}