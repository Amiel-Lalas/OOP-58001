{
  "nbformat": 4,
  "nbformat_minor": 0,
  "metadata": {
    "colab": {
      "name": "Long Quiz 1 Lalas.ipynb",
      "provenance": [],
      "authorship_tag": "ABX9TyN0pQwyWnfvAF5/cMH9AQCe",
      "include_colab_link": true
    },
    "kernelspec": {
      "name": "python3",
      "display_name": "Python 3"
    },
    "language_info": {
      "name": "python"
    }
  },
  "cells": [
    {
      "cell_type": "markdown",
      "metadata": {
        "id": "view-in-github",
        "colab_type": "text"
      },
      "source": [
        "<a href=\"https://colab.research.google.com/github/Amiel-Lalas/OOP-58001/blob/main/Long_Quiz_1_Lalas.ipynb\" target=\"_parent\"><img src=\"https://colab.research.google.com/assets/colab-badge.svg\" alt=\"Open In Colab\"/></a>"
      ]
    },
    {
      "cell_type": "markdown",
      "source": [
        "### LONG QUIZ"
      ],
      "metadata": {
        "id": "4wIlb7a0Mt0K"
      }
    },
    {
      "cell_type": "markdown",
      "source": [
        "Lalas, Amiel Simon Ray"
      ],
      "metadata": {
        "id": "ksIflwzMRC81"
      }
    },
    {
      "cell_type": "code",
      "source": [
        "class Rectangle():\n",
        "  def __init__ (self, length, width):\n",
        "    self.length = length\n",
        "    self.width = width\n",
        "\n",
        "  def area (self):\n",
        "    return self.length * self.width\n",
        "  \n",
        "  def perimeter (self):\n",
        "    return 2 * (self.length + self.width)\n",
        "\n",
        "  def display (self):\n",
        "    print (\"The Perimeter of rectangle is\", self.perimeter())\n",
        "    print (\"The Area of rectangle is\", self.area())\n",
        "\n",
        "\n",
        "rec = Rectangle (10,20)\n",
        "rec.display()"
      ],
      "metadata": {
        "colab": {
          "base_uri": "https://localhost:8080/"
        },
        "id": "BLISvOUFNE1o",
        "outputId": "7231b20c-c26d-4199-e4a8-74c43ffe0ed4"
      },
      "execution_count": 12,
      "outputs": [
        {
          "output_type": "stream",
          "name": "stdout",
          "text": [
            "The Perimeter of rectangle is 60\n",
            "The Area of rectangle is 200\n"
          ]
        }
      ]
    }
  ]
}