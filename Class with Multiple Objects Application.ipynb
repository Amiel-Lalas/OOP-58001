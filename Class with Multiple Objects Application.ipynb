{
  "nbformat": 4,
  "nbformat_minor": 0,
  "metadata": {
    "colab": {
      "name": "Untitled2.ipynb",
      "provenance": [],
      "authorship_tag": "ABX9TyPEVMCxy37s/TzIxv+vSCkr",
      "include_colab_link": true
    },
    "kernelspec": {
      "name": "python3",
      "display_name": "Python 3"
    },
    "language_info": {
      "name": "python"
    }
  },
  "cells": [
    {
      "cell_type": "markdown",
      "metadata": {
        "id": "view-in-github",
        "colab_type": "text"
      },
      "source": [
        "<a href=\"https://colab.research.google.com/github/Amiel-Lalas/OOP-58001/blob/main/Class%20with%20Multiple%20Objects%20Application.ipynb\" target=\"_parent\"><img src=\"https://colab.research.google.com/assets/colab-badge.svg\" alt=\"Open In Colab\"/></a>"
      ]
    },
    {
      "cell_type": "markdown",
      "source": [
        "Classes with Multiple Objects"
      ],
      "metadata": {
        "id": "4lYn6g4FhUlh"
      }
    },
    {
      "cell_type": "code",
      "source": [
        "class Birds:\n",
        "  def __init__(self,bird_name):\n",
        "    self.bird_name = bird_name\n",
        "  def flying_birds(self): \n",
        "    print(f\"{self.bird_name} flies above the clouds\")\n",
        "  def non_flying_birds(self):\n",
        "    print(f\"{self.bird_name} is the national bird of the Philippines\")\n",
        "\n",
        "vulture = Birds(\"Griffon Vulture\")\n",
        "crane = Birds(\"Common Crane\")\n",
        "emu = Birds(\"Emu\")\n",
        "\n",
        "vulture.flying_birds()\n",
        "crane.flying_birds()\n",
        "emu.non_flying_birds()"
      ],
      "metadata": {
        "id": "_TjGqLFuhZ3x",
        "outputId": "1454e2ae-cbe2-4e19-8e1b-68c492b5972e",
        "colab": {
          "base_uri": "https://localhost:8080/"
        }
      },
      "execution_count": null,
      "outputs": [
        {
          "output_type": "stream",
          "name": "stdout",
          "text": [
            "Griffon Vulture flies above the clouds\n",
            "Common Crane flies above the clouds\n",
            "Emu is the national bird of the Philippines\n"
          ]
        }
      ]
    },
    {
      "cell_type": "markdown",
      "source": [
        "# This is formatted as code"
      ],
      "metadata": {
        "id": "S6HNckXJhbhf"
      }
    },
    {
      "cell_type": "code",
      "source": [
        "class foo:\n",
        "  def __init__(self,a,b):\n",
        "   self._a = a  #we use underscore to make it private#\n",
        "   self._b = b\n",
        "  def add(self):\n",
        "    return self._a + self._b\n",
        "foo_object = foo(10,20)\n",
        "\n",
        "\n",
        "#foo_object.add()\n",
        "\n",
        "\n",
        "foo_object.a = 6\n",
        "foo_object.add()"
      ],
      "metadata": {
        "id": "HrDqG36phfFt",
        "outputId": "9f569a42-7973-4ca0-e0c0-6950acdc62b9",
        "colab": {
          "base_uri": "https://localhost:8080/"
        }
      },
      "execution_count": null,
      "outputs": [
        {
          "output_type": "execute_result",
          "data": {
            "text/plain": [
              "30"
            ]
          },
          "metadata": {},
          "execution_count": 2
        }
      ]
    },
    {
      "cell_type": "code",
      "source": [
        "class counter:\n",
        "    def __init__(self):\n",
        "        self.current = 0\n",
        "    def increment(self):\n",
        "        self.current += 1 \n",
        "    def value(self):\n",
        "        return self.current\n",
        "    def reset(self):\n",
        "        self.current =0\n",
        "\n",
        "counter = counter()\n",
        "\n",
        "counter.increment()\n",
        "counter.increment()\n",
        "counter.increment()\n",
        "\n",
        "print(counter.value())\n",
        "print(counter.reset())"
      ],
      "metadata": {
        "id": "jg23otEvhoL7",
        "outputId": "dd706216-ee10-4bf0-b513-84cf74b32baa",
        "colab": {
          "base_uri": "https://localhost:8080/"
        }
      },
      "execution_count": null,
      "outputs": [
        {
          "output_type": "stream",
          "name": "stdout",
          "text": [
            "3\n",
            "None\n"
          ]
        }
      ]
    },
    {
      "cell_type": "markdown",
      "source": [
        "Inhteritance:\n",
        "\n",
        "It is a way of arranging the objects in hierarchy from the most general to the most specific. An object which inherits from another object is considered to be a"
      ],
      "metadata": {
        "id": "Aw8Atc35hv8l"
      }
    },
    {
      "cell_type": "code",
      "source": [
        "class Person:\n",
        "  def __init__(self,fname,sname):\n",
        "    self.fname = fname\n",
        "    self.sname = sname\n",
        "  def printname(self):\n",
        "    print(self.fname,self.sname)\n",
        "\n",
        "x = Person(\"me\",\"ow\")\n",
        "x.printname()\n",
        "\n",
        "class Teacher(Person):\n",
        "  pass\n",
        "\n",
        "x = Teacher(\"meow\",\"ror\")\n",
        "x.printname()"
      ],
      "metadata": {
        "id": "AqaNZglwhzAC",
        "outputId": "cbc98be8-d174-4cfe-afed-4f3ddea53d03",
        "colab": {
          "base_uri": "https://localhost:8080/"
        }
      },
      "execution_count": null,
      "outputs": [
        {
          "output_type": "stream",
          "name": "stdout",
          "text": [
            "me ow\n",
            "meow ror\n"
          ]
        }
      ]
    },
    {
      "cell_type": "markdown",
      "source": [
        "Polymorphism"
      ],
      "metadata": {
        "id": "MF9rdSi7h5mk"
      }
    },
    {
      "cell_type": "code",
      "source": [
        "class RegularPolygon:\n",
        "    def __init__(self, side):\n",
        "        self._side = side\n",
        "class Square(RegularPolygon):\n",
        "    def area(self):\n",
        "        return self._side * self._side\n",
        "class EquilateralTriangle(RegularPolygon):\n",
        "    def area(self):\n",
        "        return self._side * self._side * 0.433\n",
        "\n",
        "obj1 = Square(4)\n",
        "obj2 = EquilateralTriangle(3)\n",
        "\n",
        "print(obj1.area())\n",
        "print(obj2.area())"
      ],
      "metadata": {
        "id": "6MYJ7ZFXh5CU",
        "outputId": "4c87751c-c9cc-4ba6-f85a-168456404455",
        "colab": {
          "base_uri": "https://localhost:8080/"
        }
      },
      "execution_count": null,
      "outputs": [
        {
          "output_type": "stream",
          "name": "stdout",
          "text": [
            "16\n",
            "3.897\n"
          ]
        }
      ]
    },
    {
      "cell_type": "markdown",
      "source": [
        "### Class with Multiple Objects Application\n",
        "### Lalas"
      ],
      "metadata": {
        "id": "ezT4vGgaRMGQ"
      }
    },
    {
      "cell_type": "markdown",
      "source": [
        "\n",
        "\n",
        "*  Create a Python program that displays the name of 3 students (Student 1, Student 2, Student 3) and their grades\n",
        "\n",
        "*  Create a class name \"Person\" and attributes - std1, std2, std3, pre, mid, fin\n",
        "*   Compute for the average grade of each term using Grade() method\n",
        "\n",
        "*   Information about student's grades must be hidden from others\n",
        "\n",
        "\n",
        "\n"
      ],
      "metadata": {
        "id": "QeoFN0aTRRaU"
      }
    },
    {
      "cell_type": "code",
      "source": [
        "import random\n",
        "\n",
        "class Person:\n",
        "  def __init__ (self, student, pre, mid, fin):\n",
        "    self.student = student\n",
        "    self.pre = pre *0.30\n",
        "    self.mid = mid *0.30\n",
        "    self.fin = fin *0.40\n",
        "\n",
        "  def Grade (self):\n",
        "    print (self.student, \"got the average grade of\", self.pre, \"during prelims\")\n",
        "    print (self.student, \"got the average grade of\", self.mid, \"during midterms\")\n",
        "    print (self.student, \"got the average grade of\", self.fin, \"during finals\")\n",
        "\n",
        "std1 = Person (\"Senchi\", random.randint(75,99), random.randint(75,99), random.randint(75,99))\n",
        "std2 = Person (\"Luciel\", random.randint(75,99), random.randint(75,99), random.randint(75,99))\n",
        "std3 = Person (\"Mei\", random.randint(75,99), random.randint(75,99), random.randint(75,99))\n",
        "\n",
        "stud3.Grade()"
      ],
      "metadata": {
        "colab": {
          "base_uri": "https://localhost:8080/"
        },
        "id": "AcPLuWtERlS2",
        "outputId": "e3d2fc01-b414-411c-caea-84a497049574"
      },
      "execution_count": null,
      "outputs": [
        {
          "output_type": "stream",
          "name": "stdout",
          "text": [
            "Mei got the average grade of 25.5 during prelims\n",
            "Mei got the average grade of 22.5 during midterms\n",
            "Mei got the average grade of 35.2 during finals\n"
          ]
        }
      ]
    }
  ]
}