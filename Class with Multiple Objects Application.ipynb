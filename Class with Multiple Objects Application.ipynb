{
  "nbformat": 4,
  "nbformat_minor": 0,
  "metadata": {
    "colab": {
      "name": "Untitled2.ipynb",
      "provenance": [],
      "authorship_tag": "ABX9TyN7cATXvSTUQf+sL1awqDRf",
      "include_colab_link": true
    },
    "kernelspec": {
      "name": "python3",
      "display_name": "Python 3"
    },
    "language_info": {
      "name": "python"
    }
  },
  "cells": [
    {
      "cell_type": "markdown",
      "metadata": {
        "id": "view-in-github",
        "colab_type": "text"
      },
      "source": [
        "<a href=\"https://colab.research.google.com/github/Amiel-Lalas/OOP-58001/blob/main/Class%20with%20Multiple%20Objects%20Application.ipynb\" target=\"_parent\"><img src=\"https://colab.research.google.com/assets/colab-badge.svg\" alt=\"Open In Colab\"/></a>"
      ]
    },
    {
      "cell_type": "markdown",
      "source": [
        "### Class with Multiple Objects Application\n",
        "### Lalas"
      ],
      "metadata": {
        "id": "ezT4vGgaRMGQ"
      }
    },
    {
      "cell_type": "markdown",
      "source": [
        "\n",
        "\n",
        "*  Create a Python program that displays the name of 3 students (Student 1, Student 2, Student 3) and their grades\n",
        "\n",
        "*  Create a class name \"Person\" and attributes - std1, std2, std3, pre, mid, fin\n",
        "*   Compute for the average grade of each term using Grade() method\n",
        "\n",
        "*   Information about student's grades must be hidden from others\n",
        "\n",
        "\n",
        "\n"
      ],
      "metadata": {
        "id": "QeoFN0aTRRaU"
      }
    },
    {
      "cell_type": "code",
      "source": [
        "import random\n",
        "\n",
        "class Person:\n",
        "  def __init__ (self, student, pre, mid, fin):\n",
        "    self.student = student\n",
        "    self.pre = pre *0.30\n",
        "    self.mid = mid *0.30\n",
        "    self.fin = fin *0.40\n",
        "\n",
        "  def Grade (self):\n",
        "    print (self.student, \"got the average grade of\", self.pre, \"during prelims\")\n",
        "    print (self.student, \"got the average grade of\", self.mid, \"during midterms\")\n",
        "    print (self.student, \"got the average grade of\", self.fin, \"during finals\")\n",
        "\n",
        "stud1 = Person (\"Senchi\", random.randint(75,99), random.randint(75,99), random.randint(75,99))\n",
        "stud2 = Person (\"Luciel\", random.randint(75,99), random.randint(75,99), random.randint(75,99))\n",
        "stud3 = Person (\"Mei\", random.randint(75,99), random.randint(75,99), random.randint(75,99))\n",
        "\n",
        "stud3.Grade()"
      ],
      "metadata": {
        "colab": {
          "base_uri": "https://localhost:8080/"
        },
        "id": "AcPLuWtERlS2",
        "outputId": "e3d2fc01-b414-411c-caea-84a497049574"
      },
      "execution_count": 8,
      "outputs": [
        {
          "output_type": "stream",
          "name": "stdout",
          "text": [
            "Mei got the average grade of 25.5 during prelims\n",
            "Mei got the average grade of 22.5 during midterms\n",
            "Mei got the average grade of 35.2 during finals\n"
          ]
        }
      ]
    }
  ]
}