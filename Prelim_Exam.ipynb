{
  "nbformat": 4,
  "nbformat_minor": 0,
  "metadata": {
    "colab": {
      "name": "Prelim Exam.ipynb",
      "provenance": [],
      "authorship_tag": "ABX9TyOqjhuDftC73YvVnY8PTcLE",
      "include_colab_link": true
    },
    "kernelspec": {
      "name": "python3",
      "display_name": "Python 3"
    },
    "language_info": {
      "name": "python"
    }
  },
  "cells": [
    {
      "cell_type": "markdown",
      "metadata": {
        "id": "view-in-github",
        "colab_type": "text"
      },
      "source": [
        "<a href=\"https://colab.research.google.com/github/Amiel-Lalas/OOP-58001/blob/main/Prelim_Exam.ipynb\" target=\"_parent\"><img src=\"https://colab.research.google.com/assets/colab-badge.svg\" alt=\"Open In Colab\"/></a>"
      ]
    },
    {
      "cell_type": "markdown",
      "source": [
        "## Prelim Exam - Lalas"
      ],
      "metadata": {
        "id": "gPRww8l9Jvg6"
      }
    },
    {
      "cell_type": "markdown",
      "source": [
        "Write a Python to display your full name, student number, age, and course\n",
        "* Create a class named Student with attributes: Name, Student_No, Age, School, and Course\n",
        "* Create an object name Myself and assign an instance for each attribute.\n",
        "* Create a method Self () using an instantiation of a class.\n",
        "* Insert your GitHub link \"Prelim Exam\" from your repository named \"OOP 58001\" "
      ],
      "metadata": {
        "id": "Yubid-LWJ7Ro"
      }
    },
    {
      "cell_type": "code",
      "source": [
        "class Student ():\n",
        "  def __init__ (self, Nm,Nn, Stud_No, Age, Schl, Crs, ):\n",
        "    self.Nm = Nm\n",
        "    self.Nn = Nn\n",
        "    self.Stud_No = Stud_No\n",
        "    self.Age = Age\n",
        "    self.Schl = Schl\n",
        "    self.Crs = Crs\n",
        "    \n",
        "\n",
        "  def Myself (self):\n",
        "    print (\"Name:\", self.Nm)\n",
        "    print (\"Nickname:\", self.Nn)\n",
        "    print (\"Student Number:\", self.Stud_No)\n",
        "    print (\"Age:\", self.Age, \"years old\")\n",
        "    print (\"Course:\", self.Crs)\n",
        "    print (\"School:\", self.Schl)\n",
        "\n",
        "sexybanana = Student (\"AMIEL SIMON RAY LALAS\", \"Luciel\" ,202114210, 18, \"Adamson University\", \"Bachelor of Science in Computer Engineering\")\n",
        "sexybanana.Myself()"
      ],
      "metadata": {
        "colab": {
          "base_uri": "https://localhost:8080/"
        },
        "id": "_abVQ5KBJ9Bo",
        "outputId": "1ddc0db4-0b1d-4e3e-db04-e7f81576bc30"
      },
      "execution_count": 11,
      "outputs": [
        {
          "output_type": "stream",
          "name": "stdout",
          "text": [
            "Name: AMIEL SIMON RAY LALAS\n",
            "Nickname: Luciel\n",
            "Student Number: 202114210\n",
            "Age: 18 years old\n",
            "Course: Bachelor of Science in Computer Engineering\n",
            "School: Adamson University\n"
          ]
        }
      ]
    }
  ]
}